{
  "nbformat": 4,
  "nbformat_minor": 0,
  "metadata": {
    "colab": {
      "provenance": []
    },
    "kernelspec": {
      "name": "python3",
      "display_name": "Python 3"
    },
    "language_info": {
      "name": "python"
    }
  },
  "cells": [
    {
      "cell_type": "code",
      "execution_count": 1,
      "metadata": {
        "colab": {
          "base_uri": "https://localhost:8080/"
        },
        "id": "jVbdyaRqYye0",
        "outputId": "57aa876e-a729-4660-9f5c-796e7fd407dc"
      },
      "outputs": [
        {
          "output_type": "stream",
          "name": "stdout",
          "text": [
            "Collecting h2o\n",
            "  Downloading h2o-3.46.0.7-py2.py3-none-any.whl.metadata (2.1 kB)\n",
            "Requirement already satisfied: requests in /usr/local/lib/python3.12/dist-packages (from h2o) (2.32.4)\n",
            "Requirement already satisfied: tabulate in /usr/local/lib/python3.12/dist-packages (from h2o) (0.9.0)\n",
            "Requirement already satisfied: charset_normalizer<4,>=2 in /usr/local/lib/python3.12/dist-packages (from requests->h2o) (3.4.3)\n",
            "Requirement already satisfied: idna<4,>=2.5 in /usr/local/lib/python3.12/dist-packages (from requests->h2o) (3.10)\n",
            "Requirement already satisfied: urllib3<3,>=1.21.1 in /usr/local/lib/python3.12/dist-packages (from requests->h2o) (2.5.0)\n",
            "Requirement already satisfied: certifi>=2017.4.17 in /usr/local/lib/python3.12/dist-packages (from requests->h2o) (2025.8.3)\n",
            "Downloading h2o-3.46.0.7-py2.py3-none-any.whl (265.9 MB)\n",
            "\u001b[2K   \u001b[90m━━━━━━━━━━━━━━━━━━━━━━━━━━━━━━━━━━━━━━━━\u001b[0m \u001b[32m265.9/265.9 MB\u001b[0m \u001b[31m4.5 MB/s\u001b[0m eta \u001b[36m0:00:00\u001b[0m\n",
            "\u001b[?25hInstalling collected packages: h2o\n",
            "Successfully installed h2o-3.46.0.7\n"
          ]
        }
      ],
      "source": [
        "#code snippet 1\n",
        "#Installing h2o\n",
        "!pip install h2o"
      ]
    },
    {
      "cell_type": "code",
      "source": [
        "#code snippet 2\n",
        "#Importing h2o\n",
        "import h2o\n",
        "\n",
        "#initialize h2o\n",
        "h2o.init()"
      ],
      "metadata": {
        "colab": {
          "base_uri": "https://localhost:8080/",
          "height": 548
        },
        "id": "jiU24PCHY-HG",
        "outputId": "c2e4f20d-8281-49cf-ff44-2b63a2fc6e5d"
      },
      "execution_count": 2,
      "outputs": [
        {
          "output_type": "stream",
          "name": "stdout",
          "text": [
            "Checking whether there is an H2O instance running at http://localhost:54321..... not found.\n",
            "Attempting to start a local H2O server...\n",
            "  Java Version: openjdk version \"11.0.28\" 2025-07-15; OpenJDK Runtime Environment (build 11.0.28+6-post-Ubuntu-1ubuntu122.04.1); OpenJDK 64-Bit Server VM (build 11.0.28+6-post-Ubuntu-1ubuntu122.04.1, mixed mode, sharing)\n",
            "  Starting server from /usr/local/lib/python3.12/dist-packages/h2o/backend/bin/h2o.jar\n",
            "  Ice root: /tmp/tmpjpty25yu\n",
            "  JVM stdout: /tmp/tmpjpty25yu/h2o_unknownUser_started_from_python.out\n",
            "  JVM stderr: /tmp/tmpjpty25yu/h2o_unknownUser_started_from_python.err\n",
            "  Server is running at http://127.0.0.1:54321\n",
            "Connecting to H2O server at http://127.0.0.1:54321 ... successful.\n",
            "Warning: Your H2O cluster version is (5 months and 25 days) old.  There may be a newer version available.\n",
            "Please download and install the latest version from: https://h2o-release.s3.amazonaws.com/h2o/latest_stable.html\n"
          ]
        },
        {
          "output_type": "display_data",
          "data": {
            "text/plain": [
              "--------------------------  -----------------------------------------------------------------------------------------\n",
              "H2O_cluster_uptime:         07 secs\n",
              "H2O_cluster_timezone:       Etc/UTC\n",
              "H2O_data_parsing_timezone:  UTC\n",
              "H2O_cluster_version:        3.46.0.7\n",
              "H2O_cluster_version_age:    5 months and 25 days\n",
              "H2O_cluster_name:           H2O_from_python_unknownUser_xvkbbr\n",
              "H2O_cluster_total_nodes:    1\n",
              "H2O_cluster_free_memory:    3.170 Gb\n",
              "H2O_cluster_total_cores:    2\n",
              "H2O_cluster_allowed_cores:  2\n",
              "H2O_cluster_status:         locked, healthy\n",
              "H2O_connection_url:         http://127.0.0.1:54321\n",
              "H2O_connection_proxy:       {\"http\": null, \"https\": null, \"colab_language_server\": \"/usr/colab/bin/language_service\"}\n",
              "H2O_internal_security:      False\n",
              "Python_version:             3.12.11 final\n",
              "--------------------------  -----------------------------------------------------------------------------------------"
            ],
            "text/html": [
              "\n",
              "<style>\n",
              "\n",
              "#h2o-table-1.h2o-container {\n",
              "  overflow-x: auto;\n",
              "}\n",
              "#h2o-table-1 .h2o-table {\n",
              "  /* width: 100%; */\n",
              "  margin-top: 1em;\n",
              "  margin-bottom: 1em;\n",
              "}\n",
              "#h2o-table-1 .h2o-table caption {\n",
              "  white-space: nowrap;\n",
              "  caption-side: top;\n",
              "  text-align: left;\n",
              "  /* margin-left: 1em; */\n",
              "  margin: 0;\n",
              "  font-size: larger;\n",
              "}\n",
              "#h2o-table-1 .h2o-table thead {\n",
              "  white-space: nowrap; \n",
              "  position: sticky;\n",
              "  top: 0;\n",
              "  box-shadow: 0 -1px inset;\n",
              "}\n",
              "#h2o-table-1 .h2o-table tbody {\n",
              "  overflow: auto;\n",
              "}\n",
              "#h2o-table-1 .h2o-table th,\n",
              "#h2o-table-1 .h2o-table td {\n",
              "  text-align: right;\n",
              "  /* border: 1px solid; */\n",
              "}\n",
              "#h2o-table-1 .h2o-table tr:nth-child(even) {\n",
              "  /* background: #F5F5F5 */\n",
              "}\n",
              "\n",
              "</style>      \n",
              "<div id=\"h2o-table-1\" class=\"h2o-container\">\n",
              "  <table class=\"h2o-table\">\n",
              "    <caption></caption>\n",
              "    <thead></thead>\n",
              "    <tbody><tr><td>H2O_cluster_uptime:</td>\n",
              "<td>07 secs</td></tr>\n",
              "<tr><td>H2O_cluster_timezone:</td>\n",
              "<td>Etc/UTC</td></tr>\n",
              "<tr><td>H2O_data_parsing_timezone:</td>\n",
              "<td>UTC</td></tr>\n",
              "<tr><td>H2O_cluster_version:</td>\n",
              "<td>3.46.0.7</td></tr>\n",
              "<tr><td>H2O_cluster_version_age:</td>\n",
              "<td>5 months and 25 days</td></tr>\n",
              "<tr><td>H2O_cluster_name:</td>\n",
              "<td>H2O_from_python_unknownUser_xvkbbr</td></tr>\n",
              "<tr><td>H2O_cluster_total_nodes:</td>\n",
              "<td>1</td></tr>\n",
              "<tr><td>H2O_cluster_free_memory:</td>\n",
              "<td>3.170 Gb</td></tr>\n",
              "<tr><td>H2O_cluster_total_cores:</td>\n",
              "<td>2</td></tr>\n",
              "<tr><td>H2O_cluster_allowed_cores:</td>\n",
              "<td>2</td></tr>\n",
              "<tr><td>H2O_cluster_status:</td>\n",
              "<td>locked, healthy</td></tr>\n",
              "<tr><td>H2O_connection_url:</td>\n",
              "<td>http://127.0.0.1:54321</td></tr>\n",
              "<tr><td>H2O_connection_proxy:</td>\n",
              "<td>{\"http\": null, \"https\": null, \"colab_language_server\": \"/usr/colab/bin/language_service\"}</td></tr>\n",
              "<tr><td>H2O_internal_security:</td>\n",
              "<td>False</td></tr>\n",
              "<tr><td>Python_version:</td>\n",
              "<td>3.12.11 final</td></tr></tbody>\n",
              "  </table>\n",
              "</div>\n"
            ]
          },
          "metadata": {}
        }
      ]
    },
    {
      "cell_type": "code",
      "source": [
        "# Code snippet 3\n",
        "# Importing dataset\n",
        "data = h2o.import_file('https://raw.githubusercontent.com/Imjuandiaz/Red-Cross-Donor-Indicator-Data-Project/refs/heads/main/Data/Red%20Cross%20DonorIndicator%20Clean%20Version%20-%20Sheet1.csv')\n",
        "\n",
        "\n",
        "data\n"
      ],
      "metadata": {
        "colab": {
          "base_uri": "https://localhost:8080/",
          "height": 427
        },
        "id": "xXqgpCK5Y_NK",
        "outputId": "87485c2f-6fea-49c5-9dec-e67ba13f4e5a"
      },
      "execution_count": 3,
      "outputs": [
        {
          "output_type": "stream",
          "name": "stdout",
          "text": [
            "Parse progress: |████████████████████████████████████████████████████████████████| (done) 100%\n"
          ]
        },
        {
          "output_type": "execute_result",
          "data": {
            "text/plain": [
              "  DonorPostalCode    DonorAge  GenderIdentity      IsAlumnusFlag    IsParentFlag    HasInvolvementFlag  WealthRating    PreferredAddressType      HasEmailFlag    ConsecutiveDonorYears    LastFiscalYearDonation    Donation2FiscalYearsAgo    Donation3FiscalYearsAgo    Donation4FiscalYearsAgo    Donation5FiscalYearsAgo    CurrentFiscalYearDonation    CumulativeDonationAmount    DonorIndicatorFlag.\n",
              "-----------------  ----------  ----------------  ---------------  --------------  --------------------  --------------  ----------------------  --------------  -----------------------  ------------------------  -------------------------  -------------------------  -------------------------  -------------------------  ---------------------------  --------------------------  ---------------------\n",
              "            23187          42  Female                          0               0                     0  Unknown         HOME                                 0                        1                         0                          0                          0                          0                          0                            0                          10                      1\n",
              "            77643          33  Female                          1               0                     1  Unknown         Unknown                              1                        0                         0                          0                          0                          0                          0                            0                        2100                      1\n",
              "              nan          42  Female                          0               0                     0  Unknown         HOME                                 0                        1                         0                          0                          0                          0                          0                          200                         200                      1\n",
              "            47141          31  Female                          1               0                     1  Unknown         HOME                                 1                        0                         0                          0                          0                          0                          0                            0                           0                      0\n",
              "            92555          68  Female                          0               0                     0  Unknown         HOME                                 1                        0                         0                          0                          0                          0                          0                            0                         505                      1\n",
              "            95191          57  Male                            0               0                     0  Unknown         HOME                                 0                        0                         0                          0                          0                          0                          0                            0                           0                      0\n",
              "            90265          42  Male                            0               0                     0  Unknown         HOME                                 1                        3                         0                          0                          0                          0                          0                            0                           0                      0\n",
              "            67701          42  Female                          0               0                     0  Unknown         HOME                                 0                        1                         0                          0                          0                          0                          0                            0                         170                      1\n",
              "            95972          42  Uknown                          0               0                     1  Unknown         HOME                                 0                        0                         5                          0                          0                          0                          0                            0                           5                      1\n",
              "            49884          42  Female                          0               1                     0  Unknown         HOME                                 0                        0                         0                          0                          0                          0                          0                            0                          15                      1\n",
              "[34508 rows x 18 columns]\n"
            ],
            "text/html": [
              "<table class='dataframe'>\n",
              "<thead>\n",
              "<tr><th style=\"text-align: right;\">  DonorPostalCode</th><th style=\"text-align: right;\">  DonorAge</th><th>GenderIdentity  </th><th style=\"text-align: right;\">  IsAlumnusFlag</th><th style=\"text-align: right;\">  IsParentFlag</th><th style=\"text-align: right;\">  HasInvolvementFlag</th><th>WealthRating  </th><th>PreferredAddressType  </th><th style=\"text-align: right;\">  HasEmailFlag</th><th style=\"text-align: right;\">  ConsecutiveDonorYears</th><th style=\"text-align: right;\">  LastFiscalYearDonation</th><th style=\"text-align: right;\">  Donation2FiscalYearsAgo</th><th style=\"text-align: right;\">  Donation3FiscalYearsAgo</th><th style=\"text-align: right;\">  Donation4FiscalYearsAgo</th><th style=\"text-align: right;\">  Donation5FiscalYearsAgo</th><th style=\"text-align: right;\">  CurrentFiscalYearDonation</th><th style=\"text-align: right;\">  CumulativeDonationAmount</th><th style=\"text-align: right;\">  DonorIndicatorFlag.</th></tr>\n",
              "</thead>\n",
              "<tbody>\n",
              "<tr><td style=\"text-align: right;\">            23187</td><td style=\"text-align: right;\">        42</td><td>Female          </td><td style=\"text-align: right;\">              0</td><td style=\"text-align: right;\">             0</td><td style=\"text-align: right;\">                   0</td><td>Unknown       </td><td>HOME                  </td><td style=\"text-align: right;\">             0</td><td style=\"text-align: right;\">                      1</td><td style=\"text-align: right;\">                       0</td><td style=\"text-align: right;\">                        0</td><td style=\"text-align: right;\">                        0</td><td style=\"text-align: right;\">                        0</td><td style=\"text-align: right;\">                        0</td><td style=\"text-align: right;\">                          0</td><td style=\"text-align: right;\">                        10</td><td style=\"text-align: right;\">                    1</td></tr>\n",
              "<tr><td style=\"text-align: right;\">            77643</td><td style=\"text-align: right;\">        33</td><td>Female          </td><td style=\"text-align: right;\">              1</td><td style=\"text-align: right;\">             0</td><td style=\"text-align: right;\">                   1</td><td>Unknown       </td><td>Unknown               </td><td style=\"text-align: right;\">             1</td><td style=\"text-align: right;\">                      0</td><td style=\"text-align: right;\">                       0</td><td style=\"text-align: right;\">                        0</td><td style=\"text-align: right;\">                        0</td><td style=\"text-align: right;\">                        0</td><td style=\"text-align: right;\">                        0</td><td style=\"text-align: right;\">                          0</td><td style=\"text-align: right;\">                      2100</td><td style=\"text-align: right;\">                    1</td></tr>\n",
              "<tr><td style=\"text-align: right;\">              nan</td><td style=\"text-align: right;\">        42</td><td>Female          </td><td style=\"text-align: right;\">              0</td><td style=\"text-align: right;\">             0</td><td style=\"text-align: right;\">                   0</td><td>Unknown       </td><td>HOME                  </td><td style=\"text-align: right;\">             0</td><td style=\"text-align: right;\">                      1</td><td style=\"text-align: right;\">                       0</td><td style=\"text-align: right;\">                        0</td><td style=\"text-align: right;\">                        0</td><td style=\"text-align: right;\">                        0</td><td style=\"text-align: right;\">                        0</td><td style=\"text-align: right;\">                        200</td><td style=\"text-align: right;\">                       200</td><td style=\"text-align: right;\">                    1</td></tr>\n",
              "<tr><td style=\"text-align: right;\">            47141</td><td style=\"text-align: right;\">        31</td><td>Female          </td><td style=\"text-align: right;\">              1</td><td style=\"text-align: right;\">             0</td><td style=\"text-align: right;\">                   1</td><td>Unknown       </td><td>HOME                  </td><td style=\"text-align: right;\">             1</td><td style=\"text-align: right;\">                      0</td><td style=\"text-align: right;\">                       0</td><td style=\"text-align: right;\">                        0</td><td style=\"text-align: right;\">                        0</td><td style=\"text-align: right;\">                        0</td><td style=\"text-align: right;\">                        0</td><td style=\"text-align: right;\">                          0</td><td style=\"text-align: right;\">                         0</td><td style=\"text-align: right;\">                    0</td></tr>\n",
              "<tr><td style=\"text-align: right;\">            92555</td><td style=\"text-align: right;\">        68</td><td>Female          </td><td style=\"text-align: right;\">              0</td><td style=\"text-align: right;\">             0</td><td style=\"text-align: right;\">                   0</td><td>Unknown       </td><td>HOME                  </td><td style=\"text-align: right;\">             1</td><td style=\"text-align: right;\">                      0</td><td style=\"text-align: right;\">                       0</td><td style=\"text-align: right;\">                        0</td><td style=\"text-align: right;\">                        0</td><td style=\"text-align: right;\">                        0</td><td style=\"text-align: right;\">                        0</td><td style=\"text-align: right;\">                          0</td><td style=\"text-align: right;\">                       505</td><td style=\"text-align: right;\">                    1</td></tr>\n",
              "<tr><td style=\"text-align: right;\">            95191</td><td style=\"text-align: right;\">        57</td><td>Male            </td><td style=\"text-align: right;\">              0</td><td style=\"text-align: right;\">             0</td><td style=\"text-align: right;\">                   0</td><td>Unknown       </td><td>HOME                  </td><td style=\"text-align: right;\">             0</td><td style=\"text-align: right;\">                      0</td><td style=\"text-align: right;\">                       0</td><td style=\"text-align: right;\">                        0</td><td style=\"text-align: right;\">                        0</td><td style=\"text-align: right;\">                        0</td><td style=\"text-align: right;\">                        0</td><td style=\"text-align: right;\">                          0</td><td style=\"text-align: right;\">                         0</td><td style=\"text-align: right;\">                    0</td></tr>\n",
              "<tr><td style=\"text-align: right;\">            90265</td><td style=\"text-align: right;\">        42</td><td>Male            </td><td style=\"text-align: right;\">              0</td><td style=\"text-align: right;\">             0</td><td style=\"text-align: right;\">                   0</td><td>Unknown       </td><td>HOME                  </td><td style=\"text-align: right;\">             1</td><td style=\"text-align: right;\">                      3</td><td style=\"text-align: right;\">                       0</td><td style=\"text-align: right;\">                        0</td><td style=\"text-align: right;\">                        0</td><td style=\"text-align: right;\">                        0</td><td style=\"text-align: right;\">                        0</td><td style=\"text-align: right;\">                          0</td><td style=\"text-align: right;\">                         0</td><td style=\"text-align: right;\">                    0</td></tr>\n",
              "<tr><td style=\"text-align: right;\">            67701</td><td style=\"text-align: right;\">        42</td><td>Female          </td><td style=\"text-align: right;\">              0</td><td style=\"text-align: right;\">             0</td><td style=\"text-align: right;\">                   0</td><td>Unknown       </td><td>HOME                  </td><td style=\"text-align: right;\">             0</td><td style=\"text-align: right;\">                      1</td><td style=\"text-align: right;\">                       0</td><td style=\"text-align: right;\">                        0</td><td style=\"text-align: right;\">                        0</td><td style=\"text-align: right;\">                        0</td><td style=\"text-align: right;\">                        0</td><td style=\"text-align: right;\">                          0</td><td style=\"text-align: right;\">                       170</td><td style=\"text-align: right;\">                    1</td></tr>\n",
              "<tr><td style=\"text-align: right;\">            95972</td><td style=\"text-align: right;\">        42</td><td>Uknown          </td><td style=\"text-align: right;\">              0</td><td style=\"text-align: right;\">             0</td><td style=\"text-align: right;\">                   1</td><td>Unknown       </td><td>HOME                  </td><td style=\"text-align: right;\">             0</td><td style=\"text-align: right;\">                      0</td><td style=\"text-align: right;\">                       5</td><td style=\"text-align: right;\">                        0</td><td style=\"text-align: right;\">                        0</td><td style=\"text-align: right;\">                        0</td><td style=\"text-align: right;\">                        0</td><td style=\"text-align: right;\">                          0</td><td style=\"text-align: right;\">                         5</td><td style=\"text-align: right;\">                    1</td></tr>\n",
              "<tr><td style=\"text-align: right;\">            49884</td><td style=\"text-align: right;\">        42</td><td>Female          </td><td style=\"text-align: right;\">              0</td><td style=\"text-align: right;\">             1</td><td style=\"text-align: right;\">                   0</td><td>Unknown       </td><td>HOME                  </td><td style=\"text-align: right;\">             0</td><td style=\"text-align: right;\">                      0</td><td style=\"text-align: right;\">                       0</td><td style=\"text-align: right;\">                        0</td><td style=\"text-align: right;\">                        0</td><td style=\"text-align: right;\">                        0</td><td style=\"text-align: right;\">                        0</td><td style=\"text-align: right;\">                          0</td><td style=\"text-align: right;\">                        15</td><td style=\"text-align: right;\">                    1</td></tr>\n",
              "</tbody>\n",
              "</table><pre style='font-size: smaller; margin-bottom: 1em;'>[34508 rows x 18 columns]</pre>"
            ]
          },
          "metadata": {},
          "execution_count": 3
        }
      ]
    },
    {
      "cell_type": "code",
      "source": [
        "#code snippet 4\n",
        "#Importing Kmeans Estimator\n",
        "from h2o.estimators.kmeans import H2OKMeansEstimator"
      ],
      "metadata": {
        "id": "oJAJYJ8tZAfy"
      },
      "execution_count": 4,
      "outputs": []
    },
    {
      "cell_type": "code",
      "source": [
        "#code snippet 5\n",
        "#setting the number of clusters in the data train as 4\n",
        "kmeans_model = H2OKMeansEstimator(k=3)\n",
        "\n",
        "#Train the clustering model\n",
        "kmeans_model.train(training_frame=data)"
      ],
      "metadata": {
        "colab": {
          "base_uri": "https://localhost:8080/",
          "height": 722
        },
        "id": "7krzmOgkZDOg",
        "outputId": "91781f8d-82dd-4b1d-93f4-ab1389ea5c55"
      },
      "execution_count": 5,
      "outputs": [
        {
          "output_type": "stream",
          "name": "stdout",
          "text": [
            "kmeans Model Build progress: |███████████████████████████████████████████████████| (done) 100%\n"
          ]
        },
        {
          "output_type": "execute_result",
          "data": {
            "text/plain": [
              "Model Details\n",
              "=============\n",
              "H2OKMeansEstimator : K-means\n",
              "Model Key: KMeans_model_python_1758475149058_1\n",
              "\n",
              "\n",
              "Model Summary: \n",
              "    number_of_rows    number_of_clusters    number_of_categorical_columns    number_of_iterations    within_cluster_sum_of_squares    total_sum_of_squares    between_cluster_sum_of_squares\n",
              "--  ----------------  --------------------  -------------------------------  ----------------------  -------------------------------  ----------------------  --------------------------------\n",
              "    34508             3                     3                                2                       419933                           543790                  123857\n",
              "\n",
              "ModelMetricsClustering: kmeans\n",
              "** Reported on train data. **\n",
              "\n",
              "Total Within Cluster Sum of Square Error: 419933.3393937566\n",
              "Total Sum of Square Error to Grand Mean: 543790.0013762688\n",
              "Between Cluster Sum of Square Error: 123856.66198251222\n",
              "\n",
              "Centroid Statistics: \n",
              "    centroid    size    within_cluster_sum_of_squares\n",
              "--  ----------  ------  -------------------------------\n",
              "    1           34505   415740\n",
              "    2           2       4193.77\n",
              "    3           1       3.20744e-11\n",
              "\n",
              "Scoring History: \n",
              "    timestamp            duration    iterations    number_of_reassigned_observations    within_cluster_sum_of_squares\n",
              "--  -------------------  ----------  ------------  -----------------------------------  -------------------------------\n",
              "    2025-09-21 17:19:38  0.354 sec   0             nan                                  nan\n",
              "    2025-09-21 17:19:40  2.393 sec   1             34508                                489933\n",
              "    2025-09-21 17:19:40  2.632 sec   2             0                                    419933\n",
              "\n",
              "[tips]\n",
              "Use `model.explain()` to inspect the model.\n",
              "--\n",
              "Use `h2o.display.toggle_user_tips()` to switch on/off this section."
            ],
            "text/html": [
              "<pre style='margin: 1em 0 1em 0;'>Model Details\n",
              "=============\n",
              "H2OKMeansEstimator : K-means\n",
              "Model Key: KMeans_model_python_1758475149058_1\n",
              "</pre>\n",
              "<div style='margin: 1em 0 1em 0;'>\n",
              "<style>\n",
              "\n",
              "#h2o-table-2.h2o-container {\n",
              "  overflow-x: auto;\n",
              "}\n",
              "#h2o-table-2 .h2o-table {\n",
              "  /* width: 100%; */\n",
              "  margin-top: 1em;\n",
              "  margin-bottom: 1em;\n",
              "}\n",
              "#h2o-table-2 .h2o-table caption {\n",
              "  white-space: nowrap;\n",
              "  caption-side: top;\n",
              "  text-align: left;\n",
              "  /* margin-left: 1em; */\n",
              "  margin: 0;\n",
              "  font-size: larger;\n",
              "}\n",
              "#h2o-table-2 .h2o-table thead {\n",
              "  white-space: nowrap; \n",
              "  position: sticky;\n",
              "  top: 0;\n",
              "  box-shadow: 0 -1px inset;\n",
              "}\n",
              "#h2o-table-2 .h2o-table tbody {\n",
              "  overflow: auto;\n",
              "}\n",
              "#h2o-table-2 .h2o-table th,\n",
              "#h2o-table-2 .h2o-table td {\n",
              "  text-align: right;\n",
              "  /* border: 1px solid; */\n",
              "}\n",
              "#h2o-table-2 .h2o-table tr:nth-child(even) {\n",
              "  /* background: #F5F5F5 */\n",
              "}\n",
              "\n",
              "</style>      \n",
              "<div id=\"h2o-table-2\" class=\"h2o-container\">\n",
              "  <table class=\"h2o-table\">\n",
              "    <caption>Model Summary: </caption>\n",
              "    <thead><tr><th></th>\n",
              "<th>number_of_rows</th>\n",
              "<th>number_of_clusters</th>\n",
              "<th>number_of_categorical_columns</th>\n",
              "<th>number_of_iterations</th>\n",
              "<th>within_cluster_sum_of_squares</th>\n",
              "<th>total_sum_of_squares</th>\n",
              "<th>between_cluster_sum_of_squares</th></tr></thead>\n",
              "    <tbody><tr><td></td>\n",
              "<td>34508.0</td>\n",
              "<td>3.0</td>\n",
              "<td>3.0</td>\n",
              "<td>2.0</td>\n",
              "<td>419933.3381692</td>\n",
              "<td>543790.0000000</td>\n",
              "<td>123856.6618308</td></tr></tbody>\n",
              "  </table>\n",
              "</div>\n",
              "</div>\n",
              "<div style='margin: 1em 0 1em 0;'><pre style='margin: 1em 0 1em 0;'>ModelMetricsClustering: kmeans\n",
              "** Reported on train data. **\n",
              "\n",
              "Total Within Cluster Sum of Square Error: 419933.3393937566\n",
              "Total Sum of Square Error to Grand Mean: 543790.0013762688\n",
              "Between Cluster Sum of Square Error: 123856.66198251222</pre>\n",
              "<div style='margin: 1em 0 1em 0;'>\n",
              "<style>\n",
              "\n",
              "#h2o-table-3.h2o-container {\n",
              "  overflow-x: auto;\n",
              "}\n",
              "#h2o-table-3 .h2o-table {\n",
              "  /* width: 100%; */\n",
              "  margin-top: 1em;\n",
              "  margin-bottom: 1em;\n",
              "}\n",
              "#h2o-table-3 .h2o-table caption {\n",
              "  white-space: nowrap;\n",
              "  caption-side: top;\n",
              "  text-align: left;\n",
              "  /* margin-left: 1em; */\n",
              "  margin: 0;\n",
              "  font-size: larger;\n",
              "}\n",
              "#h2o-table-3 .h2o-table thead {\n",
              "  white-space: nowrap; \n",
              "  position: sticky;\n",
              "  top: 0;\n",
              "  box-shadow: 0 -1px inset;\n",
              "}\n",
              "#h2o-table-3 .h2o-table tbody {\n",
              "  overflow: auto;\n",
              "}\n",
              "#h2o-table-3 .h2o-table th,\n",
              "#h2o-table-3 .h2o-table td {\n",
              "  text-align: right;\n",
              "  /* border: 1px solid; */\n",
              "}\n",
              "#h2o-table-3 .h2o-table tr:nth-child(even) {\n",
              "  /* background: #F5F5F5 */\n",
              "}\n",
              "\n",
              "</style>      \n",
              "<div id=\"h2o-table-3\" class=\"h2o-container\">\n",
              "  <table class=\"h2o-table\">\n",
              "    <caption>Centroid Statistics: </caption>\n",
              "    <thead><tr><th></th>\n",
              "<th>centroid</th>\n",
              "<th>size</th>\n",
              "<th>within_cluster_sum_of_squares</th></tr></thead>\n",
              "    <tbody><tr><td></td>\n",
              "<td>1.0</td>\n",
              "<td>34505.0</td>\n",
              "<td>415739.5708882</td></tr>\n",
              "<tr><td></td>\n",
              "<td>2.0</td>\n",
              "<td>2.0</td>\n",
              "<td>4193.7685055</td></tr>\n",
              "<tr><td></td>\n",
              "<td>3.0</td>\n",
              "<td>1.0</td>\n",
              "<td>0.0000000</td></tr></tbody>\n",
              "  </table>\n",
              "</div>\n",
              "</div></div>\n",
              "<div style='margin: 1em 0 1em 0;'>\n",
              "<style>\n",
              "\n",
              "#h2o-table-4.h2o-container {\n",
              "  overflow-x: auto;\n",
              "}\n",
              "#h2o-table-4 .h2o-table {\n",
              "  /* width: 100%; */\n",
              "  margin-top: 1em;\n",
              "  margin-bottom: 1em;\n",
              "}\n",
              "#h2o-table-4 .h2o-table caption {\n",
              "  white-space: nowrap;\n",
              "  caption-side: top;\n",
              "  text-align: left;\n",
              "  /* margin-left: 1em; */\n",
              "  margin: 0;\n",
              "  font-size: larger;\n",
              "}\n",
              "#h2o-table-4 .h2o-table thead {\n",
              "  white-space: nowrap; \n",
              "  position: sticky;\n",
              "  top: 0;\n",
              "  box-shadow: 0 -1px inset;\n",
              "}\n",
              "#h2o-table-4 .h2o-table tbody {\n",
              "  overflow: auto;\n",
              "}\n",
              "#h2o-table-4 .h2o-table th,\n",
              "#h2o-table-4 .h2o-table td {\n",
              "  text-align: right;\n",
              "  /* border: 1px solid; */\n",
              "}\n",
              "#h2o-table-4 .h2o-table tr:nth-child(even) {\n",
              "  /* background: #F5F5F5 */\n",
              "}\n",
              "\n",
              "</style>      \n",
              "<div id=\"h2o-table-4\" class=\"h2o-container\">\n",
              "  <table class=\"h2o-table\">\n",
              "    <caption>Scoring History: </caption>\n",
              "    <thead><tr><th></th>\n",
              "<th>timestamp</th>\n",
              "<th>duration</th>\n",
              "<th>iterations</th>\n",
              "<th>number_of_reassigned_observations</th>\n",
              "<th>within_cluster_sum_of_squares</th></tr></thead>\n",
              "    <tbody><tr><td></td>\n",
              "<td>2025-09-21 17:19:38</td>\n",
              "<td> 0.354 sec</td>\n",
              "<td>0.0</td>\n",
              "<td>nan</td>\n",
              "<td>nan</td></tr>\n",
              "<tr><td></td>\n",
              "<td>2025-09-21 17:19:40</td>\n",
              "<td> 2.393 sec</td>\n",
              "<td>1.0</td>\n",
              "<td>34508.0</td>\n",
              "<td>489933.1147926</td></tr>\n",
              "<tr><td></td>\n",
              "<td>2025-09-21 17:19:40</td>\n",
              "<td> 2.632 sec</td>\n",
              "<td>2.0</td>\n",
              "<td>0.0</td>\n",
              "<td>419933.3381692</td></tr></tbody>\n",
              "  </table>\n",
              "</div>\n",
              "</div><pre style=\"font-size: smaller; margin: 1em 0 0 0;\">\n",
              "\n",
              "[tips]\n",
              "Use `model.explain()` to inspect the model.\n",
              "--\n",
              "Use `h2o.display.toggle_user_tips()` to switch on/off this section.</pre>"
            ]
          },
          "metadata": {},
          "execution_count": 5
        }
      ]
    },
    {
      "cell_type": "code",
      "source": [
        "#code snippet 6\n",
        "#Displaying the cluster size\n",
        "kmeans_model.size()"
      ],
      "metadata": {
        "colab": {
          "base_uri": "https://localhost:8080/"
        },
        "id": "FiWkJHTXZEs5",
        "outputId": "a6286a7f-2f04-4256-bcaf-0bb8a6d222da"
      },
      "execution_count": 6,
      "outputs": [
        {
          "output_type": "execute_result",
          "data": {
            "text/plain": [
              "[34505.0, 2.0, 1.0]"
            ]
          },
          "metadata": {},
          "execution_count": 6
        }
      ]
    },
    {
      "cell_type": "code",
      "source": [
        "# Code Snippet 7\n",
        "# Import libraries\n",
        "import pandas as pd\n",
        "\n",
        "# Predict clusters for each row\n",
        "pred = kmeans_model.predict(data)\n",
        "\n",
        "# Join prediction to the original dataset\n",
        "data_with_clusters = data.cbind(pred)\n",
        "\n",
        "# Convert to pandas DataFrame\n",
        "df = data_with_clusters.as_data_frame()\n",
        "\n",
        "# ==========================\n",
        "# Numeric variables\n",
        "# ==========================\n",
        "numeric_cols = [\n",
        "    \"DonorAge\", \"IsAlumnusFlag\", \"IsParentFlag\",\n",
        "    \"HasInvolvementFlag\", \"HasEmailFlag\",\n",
        "    \"ConsecutiveDonorYears\", \"LastFiscalYearDonation\",\n",
        "    \"Donation2FiscalYearsAgo\", \"Donation3FiscalYearsAgo\",\n",
        "    \"Donation4FiscalYearsAgo\", \"Donation5FiscalYearsAgo\",\n",
        "    \"CurrentFiscalYearDonation\", \"CumulativeDonationAmount\",\n",
        "    \"DonorIndicatorFlag.\"\n",
        "]\n",
        "\n",
        "numeric_summary = df.groupby(\"predict\")[numeric_cols].mean()\n",
        "\n",
        "# ==========================\n",
        "# Categorical variables\n",
        "# ==========================\n",
        "categorical_cols = [\n",
        "    \"DonorPostalCode\", \"GenderIdentity\",\n",
        "    \"WealthRating\", \"PreferredAddressType\"\n",
        "]\n",
        "\n",
        "categorical_summary = {}\n",
        "for col in categorical_cols:\n",
        "    categorical_summary[col] = (\n",
        "        df.groupby(\"predict\")[col]\n",
        "        .value_counts(normalize=True)\n",
        "        .unstack(fill_value=0)\n",
        "    )\n"
      ],
      "metadata": {
        "colab": {
          "base_uri": "https://localhost:8080/"
        },
        "id": "hrJCMpecaLEO",
        "outputId": "7d1333ff-d1e2-43a9-aa66-201b97423417"
      },
      "execution_count": 8,
      "outputs": [
        {
          "output_type": "stream",
          "name": "stdout",
          "text": [
            "kmeans prediction progress: |████████████████████████████████████████████████████| (done) 100%\n"
          ]
        },
        {
          "output_type": "stream",
          "name": "stderr",
          "text": [
            "/usr/local/lib/python3.12/dist-packages/h2o/frame.py:1983: H2ODependencyWarning: Converting H2O frame to pandas dataframe using single-thread.  For faster conversion using multi-thread, install polars and pyarrow and use it as pandas_df = h2o_df.as_data_frame(use_multi_thread=True)\n",
            "\n",
            "  warnings.warn(\"Converting H2O frame to pandas dataframe using single-thread.  For faster conversion using\"\n"
          ]
        }
      ]
    },
    {
      "cell_type": "code",
      "source": [
        "# ==========================\n",
        "# Combinar resúmenes\n",
        "# ==========================\n",
        "\n",
        "# Unir todos los DataFrames de categorías en uno solo\n",
        "categorical_df = pd.concat(categorical_summary.values(), axis=1)\n",
        "\n",
        "# Combinar con las variables numéricas\n",
        "cluster_profiles = numeric_summary.join(categorical_df, how=\"left\")\n",
        "\n",
        "# Exportar a CSV\n",
        "cluster_profiles.to_csv(\"cluster_profiles.csv\", index=True)\n",
        "\n",
        "# Mostrar en consola\n",
        "print(cluster_profiles)\n"
      ],
      "metadata": {
        "colab": {
          "base_uri": "https://localhost:8080/"
        },
        "id": "tePviN_1aUBM",
        "outputId": "cd6f9ea0-acc9-4801-e202-74578ea677bd"
      },
      "execution_count": 9,
      "outputs": [
        {
          "output_type": "stream",
          "name": "stdout",
          "text": [
            "          DonorAge  IsAlumnusFlag  IsParentFlag  HasInvolvementFlag  \\\n",
            "predict                                                               \n",
            "0        43.364121       0.243994      0.078279            0.231068   \n",
            "1        93.500000       1.000000      0.000000            0.500000   \n",
            "2        42.000000       1.000000      0.000000            1.000000   \n",
            "\n",
            "         HasEmailFlag  ConsecutiveDonorYears  LastFiscalYearDonation  \\\n",
            "predict                                                                \n",
            "0            0.327112               1.136792            5.885530e+01   \n",
            "1            0.000000              11.000000            5.000000e+05   \n",
            "2            0.000000               5.000000            1.000000e+07   \n",
            "\n",
            "         Donation2FiscalYearsAgo  Donation3FiscalYearsAgo  \\\n",
            "predict                                                     \n",
            "0                      96.116679                37.686451   \n",
            "1                    1500.000000            349921.000000   \n",
            "2                     200.000000            199842.000000   \n",
            "\n",
            "         Donation4FiscalYearsAgo  ...  $25,000-$49,999  $250,000-$499,999  \\\n",
            "predict                           ...                                       \n",
            "0                      57.117983  ...         0.016345            0.00768   \n",
            "1                     100.000000  ...         0.000000            0.00000   \n",
            "2                       0.000000  ...         0.000000            0.00000   \n",
            "\n",
            "         $50,000-$99,999  $500,000-$999,999   Unknown      BUSN      CAMP  \\\n",
            "predict                                                                     \n",
            "0               0.018693           0.002347  0.921519  0.028257  0.018751   \n",
            "1               0.000000           0.000000  1.000000  0.000000  0.000000   \n",
            "2               0.000000           0.000000  0.000000  1.000000  0.000000   \n",
            "\n",
            "             HOME       OTR   Unknown  \n",
            "predict                                \n",
            "0        0.833763  0.002058  0.117171  \n",
            "1        1.000000  0.000000  0.000000  \n",
            "2        0.000000  0.000000  0.000000  \n",
            "\n",
            "[3 rows x 21024 columns]\n"
          ]
        }
      ]
    }
  ]
}